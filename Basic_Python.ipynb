{
  "nbformat": 4,
  "nbformat_minor": 0,
  "metadata": {
    "colab": {
      "provenance": []
    },
    "kernelspec": {
      "name": "python3",
      "display_name": "Python 3"
    },
    "language_info": {
      "name": "python"
    }
  },
  "cells": [
    {
      "cell_type": "markdown",
      "source": [
        "# **Basic python summary**"
      ],
      "metadata": {
        "id": "hxIaJcTyjC2c"
      }
    },
    {
      "cell_type": "code",
      "source": [],
      "metadata": {
        "id": "9L14BSvcvDqX"
      },
      "execution_count": null,
      "outputs": []
    },
    {
      "cell_type": "markdown",
      "source": [
        "What is Python, and why is it popular?\n",
        "\n",
        "Python is a versatile and beginner-friendly programming language. It's popular because of its clear syntax, wide range of applications, and large community support."
      ],
      "metadata": {
        "id": "Wa2BugGjwRzd"
      }
    },
    {
      "cell_type": "markdown",
      "source": [
        "What is an interpreter in Python ?\n",
        "- An interpreter in Python is a program that executes your Python code line by line, translating it into machine-readable instructions. It acts like a middleman between your code and the computer's hardware, allowing you to run your programs without compiling them first. This makes Python a more interactive and beginner-friendly language."
      ],
      "metadata": {
        "id": "vyEoWN6hwA6n"
      }
    },
    {
      "cell_type": "markdown",
      "source": [
        "What are pre-defined keywords in Python?\n",
        "\n",
        "- Pre-defined keywords in Python are reserved words with specific meanings and functionalities. They cannot be used as variable names. Examples: if, else, for, while."
      ],
      "metadata": {
        "id": "EDcnWh73v-x_"
      }
    },
    {
      "cell_type": "markdown",
      "source": [
        " Can keywords be used as variable names?\n",
        "\n",
        "- No, keywords cannot be used as variable names in Python. They are reserved for specific language functions. Using them as variable names will result in errors."
      ],
      "metadata": {
        "id": "mZ7F-AnDwuh_"
      }
    },
    {
      "cell_type": "markdown",
      "source": [
        " What is mutability in Python?\n",
        "\n",
        "- Mutability refers to whether an object's value can be changed after creation. Mutable objects (like lists) can be modified, while immutable objects (like strings) cannot."
      ],
      "metadata": {
        "id": "kLjSPgD_wu0-"
      }
    },
    {
      "cell_type": "markdown",
      "source": [
        "Why are lists mutable, but tuples are immutable?\n",
        "\n",
        "-Lists are designed for flexibility and can be modified after creation, making them mutable. Tuples, meant for representing fixed collections, cannot be changed after creation, making them immutable."
      ],
      "metadata": {
        "id": "7hAnBIqowvY6"
      }
    },
    {
      "cell_type": "markdown",
      "source": [
        "What is the difference between “==” and “is” operators in Python?\n",
        "\n",
        "- \"==\" checks if two objects have the same value (content). \"is\" checks if two objects are the same object in memory (identity)."
      ],
      "metadata": {
        "id": "A9ys0ehfwvbY"
      }
    },
    {
      "cell_type": "markdown",
      "source": [
        "What are logical operators in Python?\n",
        "\n",
        "- Logical operators combine or modify Boolean expressions. They include and (True if both are True), or (True if at least one is True), and not (inverts the truth value)."
      ],
      "metadata": {
        "id": "tSuC8Rbvwve5"
      }
    },
    {
      "cell_type": "markdown",
      "source": [
        "What is type casting in Python?\n",
        "\n",
        "- Type casting is converting a variable from one data type to another. For example, converting an integer to a float or a string to an integer."
      ],
      "metadata": {
        "id": "y5bBAwZdZ9Cb"
      }
    },
    {
      "cell_type": "markdown",
      "source": [
        "What is the difference between implicit and explicit type casting?\n",
        "\n",
        "- Implicit type casting is done automatically by Python, while explicit type casting is performed manually using functions like int(), float(), str(), etc."
      ],
      "metadata": {
        "id": "P4XeOZqkZ9FC"
      }
    },
    {
      "cell_type": "markdown",
      "source": [
        "What is the purpose of conditional statements in Python?\n",
        "\n",
        "Conditional statements control the flow of execution in a program. They allow you to execute specific blocks of code based on whether a condition is True or False."
      ],
      "metadata": {
        "id": "PqM48klfZ9Ic"
      }
    },
    {
      "cell_type": "markdown",
      "source": [
        " How does the elif statement work?\n",
        "\n",
        "- The elif statement is used after an if statement and before an optional else statement. It checks additional conditions if the preceding if condition is False."
      ],
      "metadata": {
        "id": "4FtMdW90Z9VN"
      }
    },
    {
      "cell_type": "markdown",
      "source": [
        "What is the difference between for and while loops?\n",
        "\n",
        "- for loops iterate over a sequence of items, while while loops execute as long as a condition is True."
      ],
      "metadata": {
        "id": "2zmijVQGae9B"
      }
    },
    {
      "cell_type": "markdown",
      "source": [
        "Describe a scenario where a while loop is more suitable than a for loop.\n",
        "\n",
        "- A while loop is more suitable when you don't know in advance how many times you need to iterate, such as reading data from a file until the end is reached."
      ],
      "metadata": {
        "id": "uckvsE-eaNcO"
      }
    },
    {
      "cell_type": "markdown",
      "source": [
        "# Practical"
      ],
      "metadata": {
        "id": "_RY0197fmFo-"
      }
    },
    {
      "cell_type": "code",
      "source": [
        "#Write a Python program to print \"Hello, World!\n",
        "name = \"Hello, world\"\n",
        "print(name)"
      ],
      "metadata": {
        "colab": {
          "base_uri": "https://localhost:8080/"
        },
        "id": "CP9lpegrax-c",
        "outputId": "22ccc07a-fb72-40cf-ca15-b6ca86bb6522"
      },
      "execution_count": 1,
      "outputs": [
        {
          "output_type": "stream",
          "name": "stdout",
          "text": [
            "Hello, world\n"
          ]
        }
      ]
    },
    {
      "cell_type": "code",
      "source": [
        "#Write a Python program that displays your name and age0\n",
        "name = input(\"Enter your name: \")\n",
        "age = int(input(\"Enter your age: \"))\n",
        "\n",
        "print(\"Your name is:\", name)\n",
        "print(\"Your age is:\", age)"
      ],
      "metadata": {
        "colab": {
          "base_uri": "https://localhost:8080/"
        },
        "id": "QA8aXxzsayZ2",
        "outputId": "ed0596fa-af59-473d-fd24-3b28595342b7"
      },
      "execution_count": 2,
      "outputs": [
        {
          "output_type": "stream",
          "name": "stdout",
          "text": [
            "Enter your name: Tarun\n",
            "Enter your age: 24\n",
            "Your name is: Tarun\n",
            "Your age is: 24\n"
          ]
        }
      ]
    },
    {
      "cell_type": "code",
      "source": [
        "#Write code to print all the pre-defined keywords in Python using the keyword library\n",
        "\n",
        "import keyword\n",
        "\n",
        "all_keywords = keyword.kwlist\n",
        "\n",
        "print(\"Pre-defined keywords in Python:\")\n",
        "for kw in all_keywords:\n",
        "    print(kw)"
      ],
      "metadata": {
        "colab": {
          "base_uri": "https://localhost:8080/"
        },
        "id": "HJmo4ELjay5z",
        "outputId": "3e115665-ae80-493a-ea15-b644d6f82063"
      },
      "execution_count": 3,
      "outputs": [
        {
          "output_type": "stream",
          "name": "stdout",
          "text": [
            "Pre-defined keywords in Python:\n",
            "False\n",
            "None\n",
            "True\n",
            "and\n",
            "as\n",
            "assert\n",
            "async\n",
            "await\n",
            "break\n",
            "class\n",
            "continue\n",
            "def\n",
            "del\n",
            "elif\n",
            "else\n",
            "except\n",
            "finally\n",
            "for\n",
            "from\n",
            "global\n",
            "if\n",
            "import\n",
            "in\n",
            "is\n",
            "lambda\n",
            "nonlocal\n",
            "not\n",
            "or\n",
            "pass\n",
            "raise\n",
            "return\n",
            "try\n",
            "while\n",
            "with\n",
            "yield\n"
          ]
        }
      ]
    },
    {
      "cell_type": "code",
      "source": [
        " #Write a program that checks if a given word is a Python keyword ?\n",
        "\n",
        "def is_keyword(word):\n",
        "    import keyword\n",
        "    return keyword.iskeyword(word)\n",
        "\n",
        "word_to_check = input(\"Enter a word: \")\n",
        "\n",
        "if is_keyword(word_to_check):\n",
        "        print(f\"'{word_to_check}' is a Python keyword.\")\n",
        "else:\n",
        "        print(f\"'{word_to_check}' is not a Python keyword.\")"
      ],
      "metadata": {
        "colab": {
          "base_uri": "https://localhost:8080/"
        },
        "id": "ZH0SXukzay85",
        "outputId": "eaade7cf-eb83-4a0d-ea76-5fd7fbc5e6fd"
      },
      "execution_count": 9,
      "outputs": [
        {
          "output_type": "stream",
          "name": "stdout",
          "text": [
            "Enter a word: if\n",
            "'if' is a Python keyword.\n"
          ]
        }
      ]
    },
    {
      "cell_type": "code",
      "source": [
        "# Create a list and tuple in Python, and demonstrate how attempting to change an element works differently for each0\n",
        "\n",
        "my_list = [1, 2, 3, 4, 5]\n",
        "my_tuple = [1, 2, 3, 4, 5]\n",
        "\n",
        "my_list[0] = 10\n",
        "#my_tuple[0] = 10\n",
        "\n",
        "print(\"List:\", my_list)\n",
        "print(\"Tuple:\", my_tuple)\n"
      ],
      "metadata": {
        "colab": {
          "base_uri": "https://localhost:8080/"
        },
        "id": "jOSKtPbycisE",
        "outputId": "b4164389-5d78-4854-9652-74c562188506"
      },
      "execution_count": 16,
      "outputs": [
        {
          "output_type": "stream",
          "name": "stdout",
          "text": [
            "List: [10, 2, 3, 4, 5]\n",
            "Tuple: [1, 2, 3, 4, 5]\n"
          ]
        }
      ]
    },
    {
      "cell_type": "code",
      "source": [
        "immutable_example = \"Hello\"\n",
        "mutable_example = [1, 2, 3]\n",
        "\n",
        "print(f\"Outside function, immutable argument: {immutable_example}\")\n",
        "print(f\"Outside function, mutable argument: {mutable_example}\")"
      ],
      "metadata": {
        "colab": {
          "base_uri": "https://localhost:8080/"
        },
        "id": "k4LmW9KJay_z",
        "outputId": "3cb7659a-d848-4810-e562-9351c2c91365"
      },
      "execution_count": 15,
      "outputs": [
        {
          "output_type": "stream",
          "name": "stdout",
          "text": [
            "Outside function, immutable argument: Hello\n",
            "Outside function, mutable argument: [1, 2, 3]\n"
          ]
        }
      ]
    },
    {
      "cell_type": "code",
      "source": [
        "#Write a function to demonstrate the behavior of mutable and immutable arguments ?\n",
        "\n",
        "x = 10\n",
        "y = 5\n",
        "\n",
        "if x > 0 and y > 0:\n",
        "    print(\"Both x and y are positive.\")\n",
        "\n",
        "if x > 0 or y < 0:\n",
        "    print(\"At least one of x or y is positive.\")\n",
        "\n",
        "if not x < 0:\n",
        "    print(\"x is not negative.\")"
      ],
      "metadata": {
        "colab": {
          "base_uri": "https://localhost:8080/"
        },
        "id": "rBAEMVo6azCr",
        "outputId": "2acf9a69-f803-4dfe-a5b2-78e022407b29"
      },
      "execution_count": 17,
      "outputs": [
        {
          "output_type": "stream",
          "name": "stdout",
          "text": [
            "Both x and y are positive.\n",
            "At least one of x or y is positive.\n",
            "x is not negative.\n"
          ]
        }
      ]
    },
    {
      "cell_type": "code",
      "source": [
        "#Write a Python program to convert user input from string to integer, float, and boolean types\n",
        "\n",
        "user_input = input(\"Enter a value: \")\n",
        "\n",
        "integer_value = int(user_input)\n",
        "float_value = float(user_input)\n",
        "boolean_value = bool(user_input)\n",
        "\n",
        "print(f\"Integer: {integer_value}, Float: {float_value}, Boolean: {boolean_value}\")"
      ],
      "metadata": {
        "colab": {
          "base_uri": "https://localhost:8080/"
        },
        "id": "joT_FOo0azFr",
        "outputId": "2ff291e3-c330-46b5-d70c-51a937071e30"
      },
      "execution_count": 18,
      "outputs": [
        {
          "output_type": "stream",
          "name": "stdout",
          "text": [
            "Enter a value: 42\n",
            "Integer: 42, Float: 42.0, Boolean: True\n"
          ]
        }
      ]
    },
    {
      "cell_type": "code",
      "source": [
        "#Write code to demonstrate type casting with list elements0\n",
        "\n",
        "my_list = ['1', '2.5', 'True', '0']\n",
        "\n",
        "int_list = [int(float(x)) if x != 'True' else 1 for x in my_list]\n",
        "\n",
        "float_list = [float(x) if x != 'True' else 1.0 for x in my_list]\n",
        "\n",
        "bool_list = [bool(eval(x)) for x in my_list]\n",
        "\n",
        "print(\"Integer list:\", int_list)\n",
        "print(\"Float list:\", float_list)\n",
        "print(\"Boolean list:\", bool_list)"
      ],
      "metadata": {
        "colab": {
          "base_uri": "https://localhost:8080/"
        },
        "id": "qEbWEAaVazJT",
        "outputId": "2135278c-2054-473e-e397-548cdfd73eca"
      },
      "execution_count": 21,
      "outputs": [
        {
          "output_type": "stream",
          "name": "stdout",
          "text": [
            "Integer list: [1, 2, 1, 0]\n",
            "Float list: [1.0, 2.5, 1.0, 0.0]\n",
            "Boolean list: [True, True, True, False]\n"
          ]
        }
      ]
    },
    {
      "cell_type": "code",
      "source": [
        "#Write a program that checks if a number is positive, negative, or zero0\n",
        "number = float(input(\"Enter a number: \"))\n",
        "\n",
        "if number > 0:\n",
        "    print(\"The number is positive.\")\n",
        "elif number < 0:\n",
        "    print(\"The number is negative.\")\n",
        "else:\n",
        "    print(\"The number is zero.\")"
      ],
      "metadata": {
        "colab": {
          "base_uri": "https://localhost:8080/"
        },
        "id": "G_XqOcxxkEvV",
        "outputId": "05460a14-af1b-46a5-d08f-601ead441d47"
      },
      "execution_count": 23,
      "outputs": [
        {
          "output_type": "stream",
          "name": "stdout",
          "text": [
            "Enter a number: 74\n",
            "The number is positive.\n"
          ]
        }
      ]
    },
    {
      "cell_type": "code",
      "source": [
        "#Write a for loop to print numbers from 1 to 100"
      ],
      "metadata": {
        "id": "bCV6TGTZkEyP"
      },
      "execution_count": null,
      "outputs": []
    },
    {
      "cell_type": "code",
      "source": [
        "#Write a for loop to print numbers from 1 to 100\n",
        "\n",
        "for i in range(1, 101):\n",
        "    print(i)"
      ],
      "metadata": {
        "colab": {
          "base_uri": "https://localhost:8080/"
        },
        "id": "WFCKx7z3kE0c",
        "outputId": "c9bee010-86fb-4f28-e93b-bb66e4150e71"
      },
      "execution_count": 24,
      "outputs": [
        {
          "output_type": "stream",
          "name": "stdout",
          "text": [
            "1\n",
            "2\n",
            "3\n",
            "4\n",
            "5\n",
            "6\n",
            "7\n",
            "8\n",
            "9\n",
            "10\n",
            "11\n",
            "12\n",
            "13\n",
            "14\n",
            "15\n",
            "16\n",
            "17\n",
            "18\n",
            "19\n",
            "20\n",
            "21\n",
            "22\n",
            "23\n",
            "24\n",
            "25\n",
            "26\n",
            "27\n",
            "28\n",
            "29\n",
            "30\n",
            "31\n",
            "32\n",
            "33\n",
            "34\n",
            "35\n",
            "36\n",
            "37\n",
            "38\n",
            "39\n",
            "40\n",
            "41\n",
            "42\n",
            "43\n",
            "44\n",
            "45\n",
            "46\n",
            "47\n",
            "48\n",
            "49\n",
            "50\n",
            "51\n",
            "52\n",
            "53\n",
            "54\n",
            "55\n",
            "56\n",
            "57\n",
            "58\n",
            "59\n",
            "60\n",
            "61\n",
            "62\n",
            "63\n",
            "64\n",
            "65\n",
            "66\n",
            "67\n",
            "68\n",
            "69\n",
            "70\n",
            "71\n",
            "72\n",
            "73\n",
            "74\n",
            "75\n",
            "76\n",
            "77\n",
            "78\n",
            "79\n",
            "80\n",
            "81\n",
            "82\n",
            "83\n",
            "84\n",
            "85\n",
            "86\n",
            "87\n",
            "88\n",
            "89\n",
            "90\n",
            "91\n",
            "92\n",
            "93\n",
            "94\n",
            "95\n",
            "96\n",
            "97\n",
            "98\n",
            "99\n",
            "100\n"
          ]
        }
      ]
    },
    {
      "cell_type": "code",
      "source": [
        "#Write a Python program to find the sum of all even numbers between 1 and 500\n",
        "\n",
        "total_sum = 0\n",
        "for number in range(2, 501, 2):\n",
        "    total_sum += number\n",
        "\n",
        "print(\"Sum of even numbers between 1 and 500:\", total_sum)"
      ],
      "metadata": {
        "colab": {
          "base_uri": "https://localhost:8080/"
        },
        "id": "nCKIzHSTkE4S",
        "outputId": "270bb06e-8cce-41ed-a19b-24f35a3bcb5a"
      },
      "execution_count": 25,
      "outputs": [
        {
          "output_type": "stream",
          "name": "stdout",
          "text": [
            "Sum of even numbers between 1 and 500: 62750\n"
          ]
        }
      ]
    },
    {
      "cell_type": "code",
      "source": [
        "#Write a program to reverse a string using a while loop ?\n",
        "\n",
        "string = input(\"Enter a string: \")\n",
        "reversed_string = \"\"\n",
        "index = len(string) - 1\n",
        "\n",
        "while index >= 0:\n",
        "    reversed_string += string[index]\n",
        "    index -= 1\n",
        "\n",
        "print(\"Reversed string:\", reversed_string)\n"
      ],
      "metadata": {
        "colab": {
          "base_uri": "https://localhost:8080/"
        },
        "id": "BbINZNZtlBFJ",
        "outputId": "8a02be04-1d96-41dd-f7e3-5b895166a262"
      },
      "execution_count": 26,
      "outputs": [
        {
          "output_type": "stream",
          "name": "stdout",
          "text": [
            "Enter a string: Tarun\n",
            "Reversed string: nuraT\n"
          ]
        }
      ]
    },
    {
      "cell_type": "markdown",
      "source": [],
      "metadata": {
        "id": "Bi1JIBKqlAv0"
      }
    },
    {
      "cell_type": "code",
      "source": [
        "#Write a Python program to calculate the factorial of a number provided by the user using a while loop ?\n",
        "\n",
        "number = int(input(\"Enter a number: \"))\n",
        "factorial = 1\n",
        "while number > 1:\n",
        "    factorial *= number\n",
        "    number -= 1\n",
        "\n",
        "print(\"Factorial:\", factorial)"
      ],
      "metadata": {
        "colab": {
          "base_uri": "https://localhost:8080/"
        },
        "id": "FR5JrtUSkE7v",
        "outputId": "7211c4a4-502a-4c9d-b39f-32eb46496d2e"
      },
      "execution_count": 27,
      "outputs": [
        {
          "output_type": "stream",
          "name": "stdout",
          "text": [
            "Enter a number: 3\n",
            "Factorial: 6\n"
          ]
        }
      ]
    }
  ]
}